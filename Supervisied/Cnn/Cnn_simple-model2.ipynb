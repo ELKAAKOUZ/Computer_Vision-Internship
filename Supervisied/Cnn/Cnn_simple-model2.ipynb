{
 "cells": [
  {
   "cell_type": "code",
   "execution_count": 16,
   "metadata": {},
   "outputs": [
    {
     "name": "stdout",
     "output_type": "stream",
     "text": [
      "Files already downloaded and verified\n",
      "Files already downloaded and verified\n"
     ]
    }
   ],
   "source": [
    "import torch\n",
    "import torchvision\n",
    "import torchvision.transforms as transforms\n",
    "import torch.nn as nn\n",
    "import torch.optim as optim\n",
    "\n",
    "from torch.utils.data import random_split\n",
    "transform_Training = transforms.Compose([\n",
    "    transforms.ToTensor(),\n",
    "    transforms.Normalize((0.5, 0.5, 0.5), (0.5, 0.5, 0.5)),\n",
    "    transforms.RandomHorizontalFlip(),\n",
    "    transforms.RandomCrop(size=32),\n",
    "    transforms.ColorJitter(brightness=0.2, contrast=0.2, saturation=0.2),\n",
    "    transforms.RandomAffine(0, shear=10, scale=(0.8,1.2)),\n",
    "    transforms.RandomRotation(10),\n",
    "])\n",
    "transform_Testing = transforms.Compose([\n",
    "    transforms.ToTensor(),\n",
    "    transforms.Normalize((0.5, 0.5, 0.5), (0.5, 0.5, 0.5))\n",
    "])\n",
    "train_dataset = torchvision.datasets.CIFAR10(root='./data', train=True, download=True, transform=transform_Training)\n",
    "test_dataset = torchvision.datasets.CIFAR10(root='./data', train=False, download=True, transform=transform_Testing)"
   ]
  },
  {
   "cell_type": "code",
   "execution_count": 17,
   "metadata": {},
   "outputs": [
    {
     "name": "stdout",
     "output_type": "stream",
     "text": [
      "50000\n",
      "10000\n"
     ]
    }
   ],
   "source": [
    "print(len(train_dataset))\n",
    "print(len(test_dataset))"
   ]
  },
  {
   "cell_type": "code",
   "execution_count": 18,
   "metadata": {},
   "outputs": [],
   "source": [
    "trainloader = torch.utils.data.DataLoader(train_dataset, batch_size=10, shuffle=True)\n",
    "testloader = torch.utils.data.DataLoader(test_dataset, batch_size=10, shuffle=False)\n",
    "classes=( 'plane', 'car', 'bird', 'cat', 'deer', 'dog', 'frog', 'horse', 'ship','truck')"
   ]
  },
  {
   "cell_type": "code",
   "execution_count": 19,
   "metadata": {},
   "outputs": [
    {
     "name": "stdout",
     "output_type": "stream",
     "text": [
      "torch.Size([10, 10])\n"
     ]
    }
   ],
   "source": [
    "import torch\n",
    "import torch.nn as nn\n",
    "import torch.nn.functional as F\n",
    "\n",
    "class CNN(nn.Module):\n",
    "    def __init__(self):\n",
    "        super().__init__()\n",
    "        self.conv1 = nn.Conv2d(3, 32, 3, padding=1)\n",
    "        self.conv2 = nn.Conv2d(32, 64, 3, padding=1)\n",
    "        self.conv3 = nn.Conv2d(64, 128, 3, padding=1)\n",
    "        self.conv4 = nn.Conv2d(128, 256, 3, padding=1)\n",
    "        self.conv5 = nn.Conv2d(256, 512, 3, padding=1)\n",
    "        self.pool = nn.MaxPool2d(2, 2)\n",
    "        \n",
    "        self.fc1 = nn.Linear(512 * 2 * 2, 1024)  \n",
    "        self.fc2 = nn.Linear(1024, 512)\n",
    "        self.fc3 = nn.Linear(512, 10)\n",
    "\n",
    "    def forward(self, x):\n",
    "        x = F.relu(self.conv1(x))\n",
    "        x = self.pool(F.relu(self.conv2(x)))\n",
    "        x = self.pool(F.relu(self.conv3(x)))\n",
    "        x = self.pool(F.relu(self.conv4(x)))\n",
    "        x = self.pool(F.relu(self.conv5(x)))\n",
    "        \n",
    "        x = x.view(-1, 512 * 2 * 2)  \n",
    "        x = F.relu(self.fc1(x))\n",
    "        x = F.relu(self.fc2(x))\n",
    "        x = self.fc3(x)\n",
    "        return x\n",
    "\n",
    "\n",
    "model = CNN()\n",
    "inputs = torch.randn(10, 3, 32, 32)  \n",
    "outputs = model(inputs)  \n",
    "print(outputs.size())  \n"
   ]
  },
  {
   "cell_type": "code",
   "execution_count": 20,
   "metadata": {},
   "outputs": [
    {
     "data": {
      "text/plain": [
       "CNN(\n",
       "  (conv1): Conv2d(3, 32, kernel_size=(3, 3), stride=(1, 1), padding=(1, 1))\n",
       "  (conv2): Conv2d(32, 64, kernel_size=(3, 3), stride=(1, 1), padding=(1, 1))\n",
       "  (conv3): Conv2d(64, 128, kernel_size=(3, 3), stride=(1, 1), padding=(1, 1))\n",
       "  (conv4): Conv2d(128, 256, kernel_size=(3, 3), stride=(1, 1), padding=(1, 1))\n",
       "  (conv5): Conv2d(256, 512, kernel_size=(3, 3), stride=(1, 1), padding=(1, 1))\n",
       "  (pool): MaxPool2d(kernel_size=2, stride=2, padding=0, dilation=1, ceil_mode=False)\n",
       "  (fc1): Linear(in_features=2048, out_features=1024, bias=True)\n",
       "  (fc2): Linear(in_features=1024, out_features=512, bias=True)\n",
       "  (fc3): Linear(in_features=512, out_features=10, bias=True)\n",
       ")"
      ]
     },
     "execution_count": 20,
     "metadata": {},
     "output_type": "execute_result"
    }
   ],
   "source": [
    "criterion = nn.CrossEntropyLoss()\n",
    "optimizer = optim.SGD(model.parameters(), lr=0.005)\n",
    "device = torch.device(\"cuda:0\" if torch.cuda.is_available() else \"cpu\")\n",
    "model.to(device)"
   ]
  },
  {
   "cell_type": "code",
   "execution_count": 21,
   "metadata": {},
   "outputs": [
    {
     "name": "stdout",
     "output_type": "stream",
     "text": [
      "Epoch 1, Loss: 2.3026292129039763\n",
      "Epoch 2, Loss: 2.299273066854477\n",
      "Epoch 3, Loss: 2.1075579008817673\n",
      "Epoch 4, Loss: 1.9338271827220916\n",
      "Epoch 5, Loss: 1.7895488530755044\n",
      "Epoch 6, Loss: 1.6611233338236808\n",
      "Epoch 7, Loss: 1.5712940850377082\n",
      "Epoch 8, Loss: 1.494913510143757\n",
      "Epoch 9, Loss: 1.423121839594841\n",
      "Epoch 10, Loss: 1.3592015258789063\n",
      "Epoch 11, Loss: 1.298225670748949\n",
      "Epoch 12, Loss: 1.2400246995210649\n",
      "Epoch 13, Loss: 1.1838270207464694\n",
      "Epoch 14, Loss: 1.1308986563712358\n",
      "Epoch 15, Loss: 1.084954586753249\n",
      "Epoch 16, Loss: 1.0410763949602841\n",
      "Epoch 17, Loss: 1.0017124828755855\n",
      "Epoch 18, Loss: 0.9640339728534222\n",
      "Epoch 19, Loss: 0.9322494791045784\n",
      "Epoch 20, Loss: 0.9014462029218674\n",
      "Epoch 21, Loss: 0.8724125379130244\n",
      "Epoch 22, Loss: 0.8426047848373651\n",
      "Epoch 23, Loss: 0.8187734300196171\n",
      "Epoch 24, Loss: 0.7913735871732235\n",
      "Epoch 25, Loss: 0.7695870751809328\n",
      "Finished Training\n"
     ]
    }
   ],
   "source": [
    "num_epochs = 25\n",
    "for epoch in range(num_epochs):\n",
    "    model.train()  \n",
    "    running_loss = 0.0\n",
    "\n",
    "    for inputs, labels in trainloader:\n",
    "        inputs, labels = inputs.to(device), labels.to(device)\n",
    "\n",
    "        optimizer.zero_grad()\n",
    "        outputs = model(inputs)\n",
    "        \n",
    "        loss = criterion(outputs, labels)\n",
    "        loss.backward()\n",
    "        optimizer.step()\n",
    "\n",
    "        running_loss += loss.item()\n",
    "    \n",
    "    print(f\"Epoch {epoch + 1}, Loss: {running_loss / len(trainloader)}\")\n",
    "\n",
    "print('Finished Training')\n"
   ]
  },
  {
   "cell_type": "code",
   "execution_count": 23,
   "metadata": {},
   "outputs": [
    {
     "name": "stdout",
     "output_type": "stream",
     "text": [
      "Epoch 26, Loss: 0.7462742319099606\n",
      "Epoch 27, Loss: 0.721329242747277\n",
      "Epoch 28, Loss: 0.704905159368366\n",
      "Epoch 29, Loss: 0.6821159638669342\n",
      "Epoch 30, Loss: 0.6586104024771601\n",
      "Epoch 31, Loss: 0.640824383200705\n",
      "Epoch 32, Loss: 0.6230413900088518\n",
      "Epoch 33, Loss: 0.6042710888631642\n",
      "Epoch 34, Loss: 0.5877361650690436\n",
      "Epoch 35, Loss: 0.5723388158153743\n",
      "Finished Training\n"
     ]
    }
   ],
   "source": [
    "start_epoch = 25\n",
    "end_epochs = 35\n",
    "for epoch in range(start_epoch, end_epochs, 1):\n",
    "    model.train()  \n",
    "    running_loss = 0.0\n",
    "    for inputs, labels in trainloader:\n",
    "        inputs, labels = inputs.to(device), labels.to(device)\n",
    "        optimizer.zero_grad()\n",
    "        outputs = model(inputs)\n",
    "        loss = criterion(outputs, labels)\n",
    "        loss.backward()\n",
    "        optimizer.step()\n",
    "        running_loss += loss.item()\n",
    "    print(f\"Epoch {epoch + 1}, Loss: {running_loss / len(trainloader)}\")\n",
    "\n",
    "print('Finished Training')\n"
   ]
  },
  {
   "cell_type": "code",
   "execution_count": 25,
   "metadata": {},
   "outputs": [
    {
     "name": "stdout",
     "output_type": "stream",
     "text": [
      "Epoch 36, Loss: 0.5553142989493907\n",
      "Epoch 37, Loss: 0.533291467897594\n",
      "Epoch 38, Loss: 0.524412017734535\n",
      "Epoch 39, Loss: 0.5058946604644879\n",
      "Epoch 40, Loss: 0.48695079673416913\n",
      "Epoch 41, Loss: 0.4754234429757111\n",
      "Epoch 42, Loss: 0.4654476029738784\n",
      "Epoch 43, Loss: 0.4512816393664107\n",
      "Epoch 44, Loss: 0.43175039503611623\n",
      "Epoch 45, Loss: 0.42052178689138964\n",
      "Epoch 46, Loss: 0.40440464558098466\n",
      "Epoch 47, Loss: 0.3969259930463508\n",
      "Epoch 48, Loss: 0.384083883972466\n",
      "Epoch 49, Loss: 0.370896361504728\n",
      "Epoch 50, Loss: 0.3583421970269177\n",
      "Finished Training\n"
     ]
    }
   ],
   "source": [
    "start_epoch = 35\n",
    "end_epochs = 50\n",
    "for epoch in range(start_epoch, end_epochs, 1):\n",
    "    model.train()  \n",
    "    running_loss = 0.0\n",
    "    for inputs, labels in trainloader:\n",
    "        inputs, labels = inputs.to(device), labels.to(device)\n",
    "        optimizer.zero_grad()\n",
    "        outputs = model(inputs)\n",
    "        loss = criterion(outputs, labels)\n",
    "        loss.backward()\n",
    "        optimizer.step()\n",
    "        running_loss += loss.item()\n",
    "    print(f\"Epoch {epoch + 1}, Loss: {running_loss / len(trainloader)}\")\n",
    "\n",
    "print('Finished Training')\n"
   ]
  },
  {
   "cell_type": "code",
   "execution_count": 27,
   "metadata": {},
   "outputs": [
    {
     "name": "stdout",
     "output_type": "stream",
     "text": [
      "Epoch 51, Loss: 0.35512890000543557\n",
      "Epoch 52, Loss: 0.3416333910762798\n",
      "Epoch 53, Loss: 0.3294113023949787\n",
      "Epoch 54, Loss: 0.31971327293501234\n",
      "Epoch 55, Loss: 0.3078098337261006\n",
      "Epoch 56, Loss: 0.3038333537615603\n",
      "Epoch 57, Loss: 0.29243055733377116\n",
      "Epoch 58, Loss: 0.2872379967159592\n",
      "Epoch 59, Loss: 0.2773678955581971\n",
      "Epoch 60, Loss: 0.26607771515832285\n",
      "Epoch 61, Loss: 0.2640403755318606\n",
      "Epoch 62, Loss: 0.26391682389436755\n",
      "Epoch 63, Loss: 0.2501098977719666\n",
      "Epoch 64, Loss: 0.24350587415485642\n",
      "Epoch 65, Loss: 0.2330261222324567\n",
      "Finished Training\n"
     ]
    }
   ],
   "source": [
    "start_epoch = 50\n",
    "end_epochs = 65\n",
    "for epoch in range(start_epoch, end_epochs, 1):\n",
    "    model.train()  \n",
    "    running_loss = 0.0\n",
    "    for inputs, labels in trainloader:\n",
    "        inputs, labels = inputs.to(device), labels.to(device)\n",
    "        optimizer.zero_grad()\n",
    "        outputs = model(inputs)\n",
    "        loss = criterion(outputs, labels)\n",
    "        loss.backward()\n",
    "        optimizer.step()\n",
    "        running_loss += loss.item()\n",
    "    print(f\"Epoch {epoch + 1}, Loss: {running_loss / len(trainloader)}\")\n",
    "\n",
    "print('Finished Training')\n"
   ]
  },
  {
   "cell_type": "code",
   "execution_count": 28,
   "metadata": {},
   "outputs": [
    {
     "name": "stdout",
     "output_type": "stream",
     "text": [
      "Epoch 66, Loss: 0.2330660503387102\n",
      "Epoch 67, Loss: 0.23035166358228015\n",
      "Epoch 68, Loss: 0.21941079401057215\n",
      "Epoch 69, Loss: 0.21446371772473793\n",
      "Epoch 70, Loss: 0.2143060831129551\n",
      "Epoch 71, Loss: 0.20746653783350485\n",
      "Epoch 72, Loss: 0.19423287330176972\n",
      "Epoch 73, Loss: 0.19316404768379872\n",
      "Epoch 74, Loss: 0.19349976320906426\n",
      "Epoch 75, Loss: 0.18808665931990837\n",
      "Epoch 76, Loss: 0.1835711264861282\n",
      "Epoch 77, Loss: 0.1832585158279544\n",
      "Epoch 78, Loss: 0.17482615417066263\n",
      "Epoch 79, Loss: 0.1717983616445941\n",
      "Epoch 80, Loss: 0.16325067849942135\n",
      "Epoch 81, Loss: 0.16432994135217158\n",
      "Epoch 82, Loss: 0.1608588536255047\n",
      "Epoch 83, Loss: 0.15976943405225175\n",
      "Epoch 84, Loss: 0.15816418080006406\n",
      "Epoch 85, Loss: 0.15309612631638156\n",
      "Finished Training\n"
     ]
    }
   ],
   "source": [
    "start_epoch = 65\n",
    "end_epochs = 85\n",
    "for epoch in range(start_epoch, end_epochs, 1):\n",
    "    model.train()  \n",
    "    running_loss = 0.0\n",
    "    for inputs, labels in trainloader:\n",
    "        inputs, labels = inputs.to(device), labels.to(device)\n",
    "        optimizer.zero_grad()\n",
    "        outputs = model(inputs)\n",
    "        loss = criterion(outputs, labels)\n",
    "        loss.backward()\n",
    "        optimizer.step()\n",
    "        running_loss += loss.item()\n",
    "    print(f\"Epoch {epoch + 1}, Loss: {running_loss / len(trainloader)}\")\n",
    "\n",
    "print('Finished Training')\n"
   ]
  },
  {
   "cell_type": "code",
   "execution_count": 29,
   "metadata": {},
   "outputs": [
    {
     "name": "stdout",
     "output_type": "stream",
     "text": [
      "Accuracy: 0.6608\n",
      "F-score: 0.6605427644665073\n"
     ]
    }
   ],
   "source": [
    "model.eval()\n",
    "correct = 0\n",
    "total = 0\n",
    "predicted_labels = []\n",
    "true_labels = []\n",
    "with torch.no_grad():\n",
    "    for inputs, labels in testloader:\n",
    "        inputs, labels = inputs.to(device), labels.to(device)\n",
    "        # Forward pass\n",
    "        outputs = model(inputs)\n",
    "        _, predicted = torch.max(outputs, 1)\n",
    "        total += labels.size(0)\n",
    "        correct += (predicted == labels).sum().item()\n",
    "        predicted_labels.extend(predicted.cpu().numpy())\n",
    "        true_labels.extend(labels.cpu().numpy())\n",
    "# accuracy\n",
    "accuracy = correct / total\n",
    "# F-score\n",
    "from sklearn.metrics import f1_score\n",
    "f_score = f1_score(true_labels, predicted_labels, average='weighted')\n",
    "print(f\"Accuracy: {accuracy}\")\n",
    "print(f\"F-score: {f_score}\")"
   ]
  },
  {
   "cell_type": "code",
   "execution_count": null,
   "metadata": {},
   "outputs": [],
   "source": []
  }
 ],
 "metadata": {
  "kernelspec": {
   "display_name": "myenv",
   "language": "python",
   "name": "python3"
  },
  "language_info": {
   "codemirror_mode": {
    "name": "ipython",
    "version": 3
   },
   "file_extension": ".py",
   "mimetype": "text/x-python",
   "name": "python",
   "nbconvert_exporter": "python",
   "pygments_lexer": "ipython3",
   "version": "3.10.13"
  }
 },
 "nbformat": 4,
 "nbformat_minor": 2
}
