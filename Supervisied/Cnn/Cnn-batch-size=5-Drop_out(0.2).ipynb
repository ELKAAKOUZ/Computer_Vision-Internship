{
 "cells": [
  {
   "cell_type": "markdown",
   "metadata": {
    "notebookRunGroups": {
     "groupValue": "1"
    }
   },
   "source": [
    "# CNN Model with Cifar10 Dataset ,batch-size=5,Dropout(0.2)."
   ]
  },
  {
   "cell_type": "markdown",
   "metadata": {
    "notebookRunGroups": {
     "groupValue": "1"
    }
   },
   "source": [
    "# Libraries, Dataset"
   ]
  },
  {
   "cell_type": "code",
   "execution_count": 1,
   "metadata": {},
   "outputs": [
    {
     "name": "stdout",
     "output_type": "stream",
     "text": [
      "Files already downloaded and verified\n",
      "Files already downloaded and verified\n"
     ]
    }
   ],
   "source": [
    "import torch\n",
    "import torchvision\n",
    "import torchvision.transforms as transforms\n",
    "import torch.nn as nn\n",
    "import torch.optim as optim\n",
    "\n",
    "from torch.utils.data import random_split\n",
    "transform_Training = transforms.Compose([\n",
    "    transforms.ToTensor(),\n",
    "    transforms.Normalize((0.5, 0.5, 0.5), (0.5, 0.5, 0.5)),transforms.RandomHorizontalFlip(),transforms.RandomCrop(size=32)\n",
    "])\n",
    "transform_Testing = transforms.Compose([\n",
    "    transforms.ToTensor(),\n",
    "    transforms.Normalize((0.5, 0.5, 0.5), (0.5, 0.5, 0.5))\n",
    "])\n",
    "train_dataset = torchvision.datasets.CIFAR10(root='./data', train=True, download=True, transform=transform_Training)\n",
    "test_dataset = torchvision.datasets.CIFAR10(root='./data', train=False, download=True, transform=transform_Testing)"
   ]
  },
  {
   "cell_type": "code",
   "execution_count": 2,
   "metadata": {},
   "outputs": [
    {
     "name": "stdout",
     "output_type": "stream",
     "text": [
      "50000\n",
      "10000\n"
     ]
    }
   ],
   "source": [
    "print(len(train_dataset))\n",
    "print(len(test_dataset))"
   ]
  },
  {
   "cell_type": "markdown",
   "metadata": {},
   "source": [
    "## Dataloaders"
   ]
  },
  {
   "cell_type": "code",
   "execution_count": 3,
   "metadata": {},
   "outputs": [],
   "source": [
    "trainloader = torch.utils.data.DataLoader(train_dataset, batch_size=5, shuffle=True)\n",
    "testloader = torch.utils.data.DataLoader(test_dataset, batch_size=5, shuffle=False)\n",
    "classes=( 'plane', 'car', 'bird', 'cat', 'deer', 'dog', 'frog', 'horse', 'ship','truck')"
   ]
  },
  {
   "cell_type": "markdown",
   "metadata": {
    "notebookRunGroups": {
     "groupValue": "1"
    }
   },
   "source": [
    "## Preparing the Model"
   ]
  },
  {
   "cell_type": "code",
   "execution_count": 4,
   "metadata": {},
   "outputs": [
    {
     "name": "stdout",
     "output_type": "stream",
     "text": [
      "torch.Size([10, 10])\n"
     ]
    }
   ],
   "source": [
    "import torch\n",
    "import torch.nn as nn\n",
    "import torch.nn.functional as F\n",
    "\n",
    "class CNN(nn.Module):\n",
    "    def __init__(self):\n",
    "        super().__init__()\n",
    "        self.conv1 = nn.Conv2d(3, 32, 3, padding=1)\n",
    "        self.conv2 = nn.Conv2d(32, 64, 3, padding=1)\n",
    "        self.conv3 = nn.Conv2d(64, 128, 3, padding=1)\n",
    "        self.conv4 = nn.Conv2d(128, 256, 3, padding=1)\n",
    "        self.conv5 = nn.Conv2d(256, 512, 3, padding=1)\n",
    "        self.pool = nn.MaxPool2d(2, 2)\n",
    "        \n",
    "        self.fc1 = nn.Linear(512 * 2 * 2, 1024)  \n",
    "        self.fc2 = nn.Linear(1024, 512)\n",
    "        self.fc3 = nn.Linear(512, 10)\n",
    "        self.dropout = nn.Dropout(0.2)  \n",
    "\n",
    "    def forward(self, x):\n",
    "        x = F.relu(self.conv1(x))\n",
    "        x = self.pool(F.relu(self.conv2(x)))\n",
    "        x = self.pool(F.relu(self.conv3(x)))\n",
    "        x = self.pool(F.relu(self.conv4(x)))\n",
    "        x = self.pool(F.relu(self.conv5(x)))\n",
    "        \n",
    "        x = x.view(-1, 512 * 2 * 2)  \n",
    "        x = F.relu(self.fc1(x))\n",
    "        x = self.dropout(x)  \n",
    "        x = F.relu(self.fc2(x))\n",
    "        x = self.dropout(x)  \n",
    "        x = self.fc3(x)\n",
    "        return x\n",
    "\n",
    "\n",
    "model = CNN()\n",
    "inputs = torch.randn(10, 3, 32, 32)  \n",
    "outputs = model(inputs)  \n",
    "print(outputs.size())\n"
   ]
  },
  {
   "cell_type": "markdown",
   "metadata": {},
   "source": [
    "## Loss,Optimizier"
   ]
  },
  {
   "cell_type": "code",
   "execution_count": 5,
   "metadata": {},
   "outputs": [
    {
     "data": {
      "text/plain": [
       "CNN(\n",
       "  (conv1): Conv2d(3, 32, kernel_size=(3, 3), stride=(1, 1), padding=(1, 1))\n",
       "  (conv2): Conv2d(32, 64, kernel_size=(3, 3), stride=(1, 1), padding=(1, 1))\n",
       "  (conv3): Conv2d(64, 128, kernel_size=(3, 3), stride=(1, 1), padding=(1, 1))\n",
       "  (conv4): Conv2d(128, 256, kernel_size=(3, 3), stride=(1, 1), padding=(1, 1))\n",
       "  (conv5): Conv2d(256, 512, kernel_size=(3, 3), stride=(1, 1), padding=(1, 1))\n",
       "  (pool): MaxPool2d(kernel_size=2, stride=2, padding=0, dilation=1, ceil_mode=False)\n",
       "  (fc1): Linear(in_features=2048, out_features=1024, bias=True)\n",
       "  (fc2): Linear(in_features=1024, out_features=512, bias=True)\n",
       "  (fc3): Linear(in_features=512, out_features=10, bias=True)\n",
       "  (dropout): Dropout(p=0.2, inplace=False)\n",
       ")"
      ]
     },
     "execution_count": 5,
     "metadata": {},
     "output_type": "execute_result"
    }
   ],
   "source": [
    "criterion = nn.CrossEntropyLoss()\n",
    "optimizer = optim.SGD(model.parameters(), lr=0.005)\n",
    "device = torch.device(\"cuda:0\" if torch.cuda.is_available() else \"cpu\")\n",
    "model.to(device)"
   ]
  },
  {
   "cell_type": "markdown",
   "metadata": {},
   "source": [
    "## Training"
   ]
  },
  {
   "cell_type": "code",
   "execution_count": 6,
   "metadata": {},
   "outputs": [
    {
     "name": "stdout",
     "output_type": "stream",
     "text": [
      "Epoch 1, Loss: 2.272205609023571\n",
      "Epoch 2, Loss: 1.7260778644233943\n",
      "Epoch 3, Loss: 1.3718420750841498\n",
      "Epoch 4, Loss: 1.1026731249403208\n",
      "Epoch 5, Loss: 0.8994978507716209\n",
      "Epoch 6, Loss: 0.7452312164620147\n",
      "Epoch 7, Loss: 0.6377817708804272\n",
      "Epoch 8, Loss: 0.5586102592414361\n",
      "Epoch 9, Loss: 0.48616540495273075\n",
      "Epoch 10, Loss: 0.42046068284594657\n",
      "Epoch 11, Loss: 0.3700359493163065\n",
      "Epoch 12, Loss: 0.3177431106769467\n",
      "Epoch 13, Loss: 0.2795166518134332\n",
      "Epoch 14, Loss: 0.24186018830255462\n",
      "Epoch 15, Loss: 0.21328005659641722\n",
      "Epoch 16, Loss: 0.18030973771102585\n",
      "Epoch 17, Loss: 0.1606601340186547\n",
      "Epoch 18, Loss: 0.14252207714942974\n",
      "Epoch 19, Loss: 0.1276015325795262\n",
      "Epoch 20, Loss: 0.11418333976349873\n",
      "Epoch 21, Loss: 0.09670829942675081\n",
      "Epoch 22, Loss: 0.0893871933061477\n",
      "Epoch 23, Loss: 0.08328711161397177\n",
      "Epoch 24, Loss: 0.07487390280330763\n",
      "Epoch 25, Loss: 0.07017716034129357\n",
      "Epoch 26, Loss: 0.06331968741155743\n",
      "Epoch 27, Loss: 0.05870079395602594\n",
      "Epoch 28, Loss: 0.05567501823242635\n",
      "Epoch 29, Loss: 0.051272673668310974\n",
      "Epoch 30, Loss: 0.045902123559096605\n",
      "Epoch 31, Loss: 0.040752898011438304\n",
      "Epoch 32, Loss: 0.03839484415441091\n",
      "Epoch 33, Loss: 0.043695348818304953\n",
      "Epoch 34, Loss: 0.03355926663618695\n",
      "Epoch 35, Loss: 0.033697114674977546\n",
      "Epoch 36, Loss: 0.036142709500435445\n",
      "Epoch 37, Loss: 0.03278918826532122\n",
      "Epoch 38, Loss: 0.02808900480026789\n",
      "Epoch 39, Loss: 0.02732960469442445\n",
      "Epoch 40, Loss: 0.028844774438533817\n",
      "Epoch 41, Loss: 0.030327239681477703\n",
      "Epoch 42, Loss: 0.02262056916112983\n",
      "Epoch 43, Loss: 0.025204208623972324\n",
      "Epoch 44, Loss: 0.028043908373896607\n",
      "Epoch 45, Loss: 0.022479978530435544\n",
      "Epoch 46, Loss: 0.020755918576447964\n",
      "Epoch 47, Loss: 0.02337297224657462\n",
      "Epoch 48, Loss: 0.022593556239140278\n",
      "Epoch 49, Loss: 0.015397340905447433\n",
      "Epoch 50, Loss: 0.014961365268829397\n",
      "Finished Training\n"
     ]
    }
   ],
   "source": [
    "num_epochs = 50\n",
    "for epoch in range(num_epochs):\n",
    "    model.train()  \n",
    "    running_loss = 0.0\n",
    "\n",
    "    for inputs, labels in trainloader:\n",
    "        inputs, labels = inputs.to(device), labels.to(device)\n",
    "\n",
    "        optimizer.zero_grad()\n",
    "        outputs = model(inputs)\n",
    "        \n",
    "        loss = criterion(outputs, labels)\n",
    "        loss.backward()\n",
    "        optimizer.step()\n",
    "\n",
    "        running_loss += loss.item()\n",
    "    \n",
    "    print(f\"Epoch {epoch + 1}, Loss: {running_loss / len(trainloader)}\")\n",
    "\n",
    "print('Finished Training')\n"
   ]
  },
  {
   "cell_type": "markdown",
   "metadata": {},
   "source": [
    "## Evaluation"
   ]
  },
  {
   "cell_type": "code",
   "execution_count": 7,
   "metadata": {},
   "outputs": [
    {
     "name": "stdout",
     "output_type": "stream",
     "text": [
      "Accuracy: 0.8316\n",
      "F-score: 0.8319839248433244\n"
     ]
    }
   ],
   "source": [
    "model.eval()\n",
    "correct = 0\n",
    "total = 0\n",
    "predicted_labels = []\n",
    "true_labels = []\n",
    "with torch.no_grad():\n",
    "    for inputs, labels in testloader:\n",
    "        inputs, labels = inputs.to(device), labels.to(device)\n",
    "        # Forward pass\n",
    "        outputs = model(inputs)\n",
    "        _, predicted = torch.max(outputs, 1)\n",
    "        total += labels.size(0)\n",
    "        correct += (predicted == labels).sum().item()\n",
    "        predicted_labels.extend(predicted.cpu().numpy())\n",
    "        true_labels.extend(labels.cpu().numpy())\n",
    "# accuracy\n",
    "accuracy = correct / total\n",
    "# F-score\n",
    "from sklearn.metrics import f1_score\n",
    "f_score = f1_score(true_labels, predicted_labels, average='weighted')\n",
    "print(f\"Accuracy: {accuracy}\")\n",
    "print(f\"F-score: {f_score}\")"
   ]
  }
 ],
 "metadata": {
  "kernelspec": {
   "display_name": "myenv",
   "language": "python",
   "name": "python3"
  },
  "language_info": {
   "codemirror_mode": {
    "name": "ipython",
    "version": 3
   },
   "file_extension": ".py",
   "mimetype": "text/x-python",
   "name": "python",
   "nbconvert_exporter": "python",
   "pygments_lexer": "ipython3",
   "version": "3.10.12"
  }
 },
 "nbformat": 4,
 "nbformat_minor": 2
}
